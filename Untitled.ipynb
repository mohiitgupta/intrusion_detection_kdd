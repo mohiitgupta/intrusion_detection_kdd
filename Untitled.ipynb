{
 "cells": [
  {
   "cell_type": "code",
   "execution_count": 1,
   "metadata": {
    "collapsed": true
   },
   "outputs": [],
   "source": [
    "import numpy as np\n",
    "from sklearn.svm import SVC\n",
    "import pickle\n",
    "\n",
    "def _get_int_feature(dictionary, key, counter):\n",
    "    if key in dictionary:\n",
    "        return dictionary[key], counter\n",
    "    else:           # key not in dictionary\n",
    "        dictionary[key] = counter\n",
    "    return dictionary[key], counter+1"
   ]
  },
  {
   "cell_type": "code",
   "execution_count": 2,
   "metadata": {
    "collapsed": true
   },
   "outputs": [],
   "source": [
    "dos = ['back','land','neptune','pod','smurf','teardrop']\n",
    "u2r = ['buffer_overflow','loadmodule','perl','rootkit']\n",
    "r2l = ['ftp_write','guess_passwd','imap','multihop','phf','spy','warezclient','warezmaster']\n",
    "probing = ['ipsweep','nmap','portsweep','satan']\n",
    "normal = ['normal']\n",
    "\n",
    "ifile = open('../kddcup.data','r')             # loading data\n",
    "raw_data = ifile.readlines()\n",
    "ifile.close()\n",
    "\n",
    "## cleaning ##\n",
    "cleanedData = []\n",
    "dict_tcp,tcpCount = {},0\n",
    "dict_http,httpCount = {},0\n",
    "dict_sf,sfCount = {},0\n",
    "\n",
    "nDOS,nU2R,nR2L,nProb,nNormal,nOthers = 0,0,0,0,0,0\n",
    "for info in raw_data[:100000]:\n",
    "    info = info.replace('\\n','').replace('.','').split(',')\n",
    "    info[1], tcpCount = _get_int_feature(dict_tcp, info[1], tcpCount)\n",
    "    info[2], httpCount = _get_int_feature(dict_http, info[2], httpCount)\n",
    "    info[3], sfCount = _get_int_feature(dict_sf, info[3], sfCount)\n",
    "    # print(\"info is \", info)\n",
    "    if info[-1] in dos:\n",
    "        info[-1] = 1 #'DOS' label\n",
    "        nDOS += 1\n",
    "        cleanedData.append(info)\n",
    "    # elif info[-1] in u2r:\n",
    "    #     info[-1] = 'U2R'\n",
    "    #     nU2R += 1\n",
    "    # elif info[-1] in r2l:\n",
    "    #     info[-1] = 'R2L'\n",
    "    #     nR2L += 1\n",
    "    # elif info[-1] in probing:\n",
    "    #     info[-1] = 'PROBING'\n",
    "    #     nProb += 1\n",
    "    elif info[-1] in normal:           # label is normal\n",
    "        nNormal += 1\n",
    "        info[-1] = 0 #'NORMAL' label\n",
    "        cleanedData.append(info)\n",
    "    else:                               # unspecified label\n",
    "        nOthers += 1\n",
    "# with open('cleaned_data', 'wb') as fp:\n",
    "#     pickle.dump(cleanedData, fp)\n",
    "\n",
    "\n",
    "# with open ('cleaned_data', 'rb') as fp:\n",
    "#     cleanedData = pickle.load(fp)\n",
    "examples_matrix = np.array(cleanedData)\n",
    "# print(\"example is \", examples_matrix[1])\n",
    "feature_matrix = examples_matrix[:,:-1]\n",
    "label_matrix = examples_matrix[:,-1]"
   ]
  },
  {
   "cell_type": "code",
   "execution_count": null,
   "metadata": {},
   "outputs": [
    {
     "name": "stdout",
     "output_type": "stream",
     "text": [
      "['0' '0' '0' '0' '162' '4528' '0' '0' '0' '0' '0' '1' '0' '0' '0' '0' '0'\n",
      " '0' '0' '0' '0' '0' '2' '2' '000' '000' '000' '000' '100' '000' '000' '1'\n",
      " '1' '100' '000' '100' '000' '000' '000' '000' '000']\n",
      "labels are  0\n"
     ]
    }
   ],
   "source": [
    "print(feature_matrix[1])\n",
    "print('labels are ', label_matrix[1])\n",
    "clf = SVC(gamma='auto')\n",
    "clf.fit(feature_matrix, label_matrix)"
   ]
  },
  {
   "cell_type": "code",
   "execution_count": null,
   "metadata": {
    "collapsed": true
   },
   "outputs": [],
   "source": [
    "print(nDOS,nU2R,nR2L,nNormal,nOthers)"
   ]
  }
 ],
 "metadata": {
  "kernelspec": {
   "display_name": "Python 3",
   "language": "python",
   "name": "python3"
  },
  "language_info": {
   "codemirror_mode": {
    "name": "ipython",
    "version": 3
   },
   "file_extension": ".py",
   "mimetype": "text/x-python",
   "name": "python",
   "nbconvert_exporter": "python",
   "pygments_lexer": "ipython3",
   "version": "3.6.7"
  }
 },
 "nbformat": 4,
 "nbformat_minor": 2
}
