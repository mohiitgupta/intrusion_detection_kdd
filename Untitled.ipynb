{
 "cells": [
  {
   "cell_type": "code",
   "execution_count": null,
   "metadata": {
    "collapsed": true
   },
   "outputs": [],
   "source": [
    "import numpy as np\n",
    "from sklearn.svm import SVC\n",
    "import pickle\n",
    "from sklearn.metrics import f1_score\n",
    "\n",
    "def _get_int_feature(dictionary, key, counter):\n",
    "    if key in dictionary:\n",
    "        return dictionary[key], counter\n",
    "    else:           # key not in dictionary\n",
    "        dictionary[key] = counter\n",
    "    return dictionary[key], counter+1"
   ]
  },
  {
   "cell_type": "code",
   "execution_count": null,
   "metadata": {
    "collapsed": true
   },
   "outputs": [],
   "source": [
    "def calculate_macro_f1_score(predictions, true_labels):\n",
    "    true_positives = [0 for i in range(11)]\n",
    "    false_positives = [0 for i in range(11)]\n",
    "    false_negatives = [0 for i in range(11)]\n",
    "\n",
    "    if len(predictions) != len(true_labels):\n",
    "        print(\"bug in code, length of predictions should match length of true_labels\")\n",
    "        return None\n",
    "    for i in range(len(predictions)):\n",
    "        if predictions[i] == true_labels[i]:\n",
    "            true_positives[predictions[i]] += 1\n",
    "        else:\n",
    "            false_positives[predictions[i]] += 1\n",
    "            false_negatives[true_labels[i]] += 1\n",
    "\n",
    "    total_classes = 0\n",
    "    total_f1 = 0\n",
    "    for i in range(11):\n",
    "        if true_positives[i]==0 and false_positives[i]==0:\n",
    "            continue\n",
    "        elif true_positives[i]==0 and false_negatives[i]==0:\n",
    "            continue\n",
    "        prec = true_positives[i]*1.0/(true_positives[i] + false_positives[i])\n",
    "        recall = true_positives[i]*1.0/(true_positives[i]+false_negatives[i])\n",
    "        f1=0\n",
    "        if prec+recall != 0:\n",
    "            f1 = 2*prec*recall/(prec+recall)\n",
    "            total_classes += 1\n",
    "            total_f1 += f1\n",
    "    return total_f1*100.0/total_classes\n",
    "\n",
    "def calculate_micro_f1_score(predictions, true_labels):\n",
    "    true_positives = 0\n",
    "    false_positives = 0\n",
    "    false_negatives = 0\n",
    "\n",
    "    if len(predictions) != len(true_labels):\n",
    "        print(\"bug in code, length of predictions should match length of true_labels\")\n",
    "        return None\n",
    "    for i in range(len(predictions)):\n",
    "        if predictions[i] == true_labels[i]:\n",
    "            true_positives += 1\n",
    "        else:\n",
    "            false_positives += 1\n",
    "            false_negatives += 1\n",
    "    prec = true_positives*1.0/(true_positives + false_positives)\n",
    "    recall = true_positives*1.0/(true_positives+false_negatives)\n",
    "    return 2*prec*recall*100.0/(prec+recall)\n"
   ]
  },
  {
   "cell_type": "code",
   "execution_count": null,
   "metadata": {
    "collapsed": true
   },
   "outputs": [],
   "source": [
    "dos = ['back','land','neptune','pod','smurf','teardrop']\n",
    "u2r = ['buffer_overflow','loadmodule','perl','rootkit']\n",
    "r2l = ['ftp_write','guess_passwd','imap','multihop','phf','spy','warezclient','warezmaster']\n",
    "probing = ['ipsweep','nmap','portsweep','satan']\n",
    "normal = ['normal']\n",
    "\n",
    "ifile = open('../kddcup.data','r')             # loading data\n",
    "raw_data = ifile.readlines()\n",
    "ifile.close()\n",
    "\n",
    "## cleaning ##\n",
    "cleanedData = []\n",
    "dict_tcp,tcpCount = {},0\n",
    "dict_http,httpCount = {},0\n",
    "dict_sf,sfCount = {},0\n",
    "\n",
    "nDOS,nU2R,nR2L,nProb,nNormal,nOthers = 0,0,0,0,0,0\n",
    "for info in raw_data:\n",
    "    info = info.replace('\\n','').replace('.','').split(',')\n",
    "    info[1], tcpCount = _get_int_feature(dict_tcp, info[1], tcpCount)\n",
    "    info[2], httpCount = _get_int_feature(dict_http, info[2], httpCount)\n",
    "    info[3], sfCount = _get_int_feature(dict_sf, info[3], sfCount)\n",
    "    # print(\"info is \", info)\n",
    "    if info[-1] in dos:\n",
    "        info[-1] = 1 #'DOS' label\n",
    "        nDOS += 1\n",
    "#         cleanedData.append(info)\n",
    "    elif info[-1] in u2r:\n",
    "        info[-1] = 2 #'U2R'\n",
    "        nU2R += 1\n",
    "    elif info[-1] in r2l:\n",
    "        info[-1] = 3 #'R2L'\n",
    "        nR2L += 1\n",
    "    elif info[-1] in probing:\n",
    "        info[-1] = 4 #'PROBING'\n",
    "        nProb += 1\n",
    "    elif info[-1] in normal:           # label is normal\n",
    "        nNormal += 1\n",
    "        info[-1] = 0 #'NORMAL' label\n",
    "        \n",
    "    else:                               # unspecified label\n",
    "        nOthers += 1\n",
    "        continue\n",
    "    cleanedData.append(info)\n",
    "# with open('cleaned_data', 'wb') as fp:\n",
    "#     pickle.dump(cleanedData, fp)\n",
    "\n",
    "\n",
    "# with open ('cleaned_data', 'rb') as fp:\n",
    "#     cleanedData = pickle.load(fp)\n",
    "examples_matrix = np.array(cleanedData)\n",
    "np.random.shuffle(examples_matrix)"
   ]
  },
  {
   "cell_type": "code",
   "execution_count": null,
   "metadata": {
    "collapsed": true
   },
   "outputs": [],
   "source": [
    "print(nDOS,nU2R,nR2L,nNormal,nOthers)"
   ]
  },
  {
   "cell_type": "code",
   "execution_count": null,
   "metadata": {
    "collapsed": true
   },
   "outputs": [],
   "source": [
    "# print(\"example is \", examples_matrix[1])\n",
    "train_size = 70000\n",
    "test_size = 30000\n",
    "train_feature_matrix = examples_matrix[:train_size,:-1]\n",
    "train_label_matrix = examples_matrix[:train_size,-1]\n",
    "test_feature_matrix = examples_matrix[train_size+1:train_size+test_size,:-1]\n",
    "test_label_matrix = examples_matrix[train_size+1:train_size+test_size,-1]"
   ]
  },
  {
   "cell_type": "code",
   "execution_count": null,
   "metadata": {
    "collapsed": true
   },
   "outputs": [],
   "source": [
    "import collections\n",
    "print(collections.Counter(train_label_matrix))\n",
    "print(collections.Counter(test_label_matrix))"
   ]
  },
  {
   "cell_type": "code",
   "execution_count": null,
   "metadata": {
    "collapsed": true
   },
   "outputs": [],
   "source": [
    "# print(feature_matrix[:10])\n",
    "# print('labels are ', train_label_matrix[:10])\n",
    "clf = SVC(gamma='auto')\n",
    "clf.fit(train_feature_matrix, train_label_matrix)"
   ]
  },
  {
   "cell_type": "code",
   "execution_count": null,
   "metadata": {
    "collapsed": true
   },
   "outputs": [],
   "source": [
    "predicted_labels = clf.predict(test_feature_matrix)\n",
    "macro_f1_score = f1_score(test_label_matrix, predicted_labels, average='macro') \n",
    "print(macro_f1_score)\n",
    "# macro_f1_score = calculate_macro_f1_score(predicted_labels, test_label_matrix)"
   ]
  },
  {
   "cell_type": "code",
   "execution_count": null,
   "metadata": {
    "collapsed": true
   },
   "outputs": [],
   "source": [
    "# for i, predicted_label in enumerate(predicted_labels):\n",
    "#     if predicted_label != test_label_matrix[i]:\n",
    "#         print(predicted_label, \" \", test_label_matrix[i], \" \", i)\n",
    "# print(\"macro f1 score is \", macro_f1_score)\n",
    "# print(\"predicted_label \", predicted_label, \" true label \", examples_matrix[51,-1])"
   ]
  },
  {
   "cell_type": "code",
   "execution_count": null,
   "metadata": {
    "collapsed": true
   },
   "outputs": [],
   "source": [
    "from sklearn import tree\n",
    "dt_clf = tree.DecisionTreeClassifier()\n",
    "dt_clf = dt_clf.fit(train_feature_matrix, train_label_matrix)\n",
    "dt_predictions = dt_clf.predict(test_feature_matrix)\n",
    "dt_macro_f1_score = f1_score(test_label_matrix, dt_predictions, average='macro') \n",
    "print(dt_macro_f1_score)"
   ]
  },
  {
   "cell_type": "code",
   "execution_count": null,
   "metadata": {
    "collapsed": true
   },
   "outputs": [],
   "source": [
    "from sklearn.neural_network import MLPClassifier\n",
    "nn_clf = MLPClassifier(solver='adam', alpha=1e-5, hidden_layer_sizes=(50, 30), random_state=1)\n",
    "nn_train_feature_matrix = train_feature_matrix.astype(np.float64)\n",
    "nn_test_feature_matrix = test_feature_matrix.astype(np.float64)\n",
    "nn_clf.fit(nn_train_feature_matrix, train_label_matrix)\n",
    "nn_predictions = nn_clf.predict(nn_test_feature_matrix)\n",
    "nn_macro_f1_score = f1_score(test_label_matrix, nn_predictions, average='macro') \n",
    "print(nn_macro_f1_score)"
   ]
  },
  {
   "cell_type": "code",
   "execution_count": 2,
   "metadata": {},
   "outputs": [
    {
     "name": "stdout",
     "output_type": "stream",
     "text": [
      "30\n"
     ]
    }
   ],
   "source": [
    "import re\n",
    "lists = []\n",
    "with open(\"allResults.txt\",\"rb\") as fp:\n",
    "    results = fp.readlines()\n",
    "    for i in range(10):\n",
    "        axis = []\n",
    "        lists.append(axis)\n",
    "    \n",
    "    for result in results[1:]:\n",
    "        result = str(result)\n",
    "#         print (result.split(','))\n",
    "        \n",
    "        result = re.sub('[^0-9.,]*', '', result)\n",
    "        result = result.split(',')\n",
    "#         print(result)\n",
    "        for i, score in enumerate(result):\n",
    "            if i == 0:\n",
    "                lists[i].append(int(score)/1000)\n",
    "            else:\n",
    "                \n",
    "                score = (float(score))\n",
    "                lists[i].append(score)\n",
    "\n",
    "print (len(lists[0]))\n",
    "# print (lists[1])\n",
    "# print (lists[4])\n",
    "# print (lists[7])\n",
    "# plot_learning_curves('Dataset Size', 'F1 Score', lists[0], lists[1], lists[4], lists[7], 'F1Scores.png')\n",
    "# plot_learning_curves('Dataset Size', 'Accuracy', lists[0], lists[2], lists[5], lists[8], 'Accuracy.png')\n",
    "plot_learning_curves('Dataset Size', 'Time', lists[0], lists[3], lists[6], lists[9], 'Time.png')\n",
    "\n",
    "\n",
    "\n",
    "# plot_learning_curves('Dataset Size', 'F1 Score', lists[0], lists[3], lists[4], lists[7], '')"
   ]
  },
  {
   "cell_type": "code",
   "execution_count": 1,
   "metadata": {},
   "outputs": [],
   "source": [
    "import matplotlib as mpl\n",
    "mpl.use('Agg')\n",
    "import matplotlib.pyplot as plt\n",
    "# mpl.rcParams['figure.figsize'] = (20,20)\n",
    "\n",
    "def plot_learning_curves(x_axis_label, y_axis_label, x_axis, y_axis_1, y_axis_2, y_axis_3, image_name):\n",
    "#     print (y_axis_1)\n",
    "    plt.plot(x_axis, y_axis_1, marker='o')\n",
    "    plt.plot(x_axis, y_axis_2, marker='^')\n",
    "    plt.plot(x_axis, y_axis_3, marker='v')\n",
    "    plt.legend(['SVM', 'DecisionTree', 'Deep Neural Network'], loc='best')\n",
    "    plt.xlabel(x_axis_label + \" (in thousands)\")\n",
    "    plt.ylabel(y_axis_label + \" (in seconds)\" )\n",
    "    plt.xticks(x_axis,rotation=90,size=8)\n",
    "    plt.title(y_axis_label + ' versus ' + x_axis_label)\n",
    "    plt.savefig(image_name,dpi=300)"
   ]
  },
  {
   "cell_type": "code",
   "execution_count": null,
   "metadata": {
    "collapsed": true
   },
   "outputs": [],
   "source": [
    "plot_learning_curves('Dataset Size', 'F1 Score', lists[0], lists[1], lists[4], lists[7], 'F1Scores.png')"
   ]
  },
  {
   "cell_type": "code",
   "execution_count": null,
   "metadata": {
    "collapsed": true
   },
   "outputs": [],
   "source": []
  }
 ],
 "metadata": {
  "kernelspec": {
   "display_name": "Python 3",
   "language": "python",
   "name": "python3"
  },
  "language_info": {
   "codemirror_mode": {
    "name": "ipython",
    "version": 3
   },
   "file_extension": ".py",
   "mimetype": "text/x-python",
   "name": "python",
   "nbconvert_exporter": "python",
   "pygments_lexer": "ipython3",
   "version": "3.6.7"
  }
 },
 "nbformat": 4,
 "nbformat_minor": 2
}
